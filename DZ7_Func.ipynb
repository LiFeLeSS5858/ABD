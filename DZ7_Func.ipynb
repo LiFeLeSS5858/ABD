{
  "nbformat": 4,
  "nbformat_minor": 0,
  "metadata": {
    "colab": {
      "provenance": [],
      "include_colab_link": true
    },
    "kernelspec": {
      "name": "python3",
      "display_name": "Python 3"
    },
    "language_info": {
      "name": "python"
    }
  },
  "cells": [
    {
      "cell_type": "markdown",
      "metadata": {
        "id": "view-in-github",
        "colab_type": "text"
      },
      "source": [
        "<a href=\"https://colab.research.google.com/github/LiFeLeSS5858/ABD/blob/main/DZ7_Func.ipynb\" target=\"_parent\"><img src=\"https://colab.research.google.com/assets/colab-badge.svg\" alt=\"Open In Colab\"/></a>"
      ]
    },
    {
      "cell_type": "markdown",
      "source": [
        "## 0. Перепишите этот код через map.\n"
      ],
      "metadata": {
        "id": "gFAZd-DqEuFb"
      }
    },
    {
      "cell_type": "code",
      "source": [
        "names = ['Маша', 'Ира', 'Илларион']\n",
        "\n",
        "for i in range(len(names)):\n",
        "  names[i] = hash(names[i])\n",
        "\n",
        "print(names)"
      ],
      "metadata": {
        "colab": {
          "base_uri": "https://localhost:8080/"
        },
        "id": "_3-uApXgE0iQ",
        "outputId": "f170de70-ab24-45c7-f244-8ba759209e9f"
      },
      "execution_count": 1,
      "outputs": [
        {
          "output_type": "stream",
          "name": "stdout",
          "text": [
            "[-7318125740928767480, -7779028726158349109, -3269453132274912403]\n"
          ]
        }
      ]
    },
    {
      "cell_type": "code",
      "source": [
        "names = ['Маша', 'Ира', 'Илларион']\n",
        "\n",
        "names = list(map(lambda x: hash(x), names))\n",
        "\n",
        "print(names)"
      ],
      "metadata": {
        "colab": {
          "base_uri": "https://localhost:8080/"
        },
        "id": "bz1-TCUNFLAW",
        "outputId": "64ecfc98-f61b-4408-a4cc-a45408b04d14"
      },
      "execution_count": 2,
      "outputs": [
        {
          "output_type": "stream",
          "name": "stdout",
          "text": [
            "[-7318125740928767480, -7779028726158349109, -3269453132274912403]\n"
          ]
        }
      ]
    },
    {
      "cell_type": "markdown",
      "source": [
        "## 1. Напишите \"наивную\" рекуррентную функцию вычисления n-го числа Фибоначчи."
      ],
      "metadata": {
        "id": "oxrSWcpBFhJV"
      }
    },
    {
      "cell_type": "code",
      "source": [
        "%%time\n",
        "\n",
        "def fib(n):\n",
        "    if n <= 1:\n",
        "        return n\n",
        "    else:\n",
        "        return fib(n-1) + fib(n-2)\n",
        "fib(35)"
      ],
      "metadata": {
        "colab": {
          "base_uri": "https://localhost:8080/"
        },
        "id": "zZKM4KLDFmqS",
        "outputId": "6ca03e93-79e5-4b3c-d830-9c886ffd2057"
      },
      "execution_count": 3,
      "outputs": [
        {
          "output_type": "stream",
          "name": "stdout",
          "text": [
            "CPU times: user 4.85 s, sys: 18.6 ms, total: 4.87 s\n",
            "Wall time: 5.36 s\n"
          ]
        },
        {
          "output_type": "execute_result",
          "data": {
            "text/plain": [
              "9227465"
            ]
          },
          "metadata": {},
          "execution_count": 3
        }
      ]
    },
    {
      "cell_type": "code",
      "source": [
        "%%time\n",
        "import functools\n",
        "\n",
        "@functools.lru_cache()\n",
        "def fib(n): \n",
        "  if n <= 1:  # одно и то же условие проверяет и граничный, и рекурсивный случаи сразу\n",
        "    return n\n",
        "  return fib(n-1) + fib(n-2)\n",
        "\n",
        "fib(35)"
      ],
      "metadata": {
        "colab": {
          "base_uri": "https://localhost:8080/"
        },
        "id": "UF_LhvmiJhVY",
        "outputId": "3daf618f-6ebb-4abb-b162-85753f6dac59"
      },
      "execution_count": 4,
      "outputs": [
        {
          "output_type": "stream",
          "name": "stdout",
          "text": [
            "CPU times: user 61 µs, sys: 2 µs, total: 63 µs\n",
            "Wall time: 66 µs\n"
          ]
        },
        {
          "output_type": "execute_result",
          "data": {
            "text/plain": [
              "9227465"
            ]
          },
          "metadata": {},
          "execution_count": 4
        }
      ]
    },
    {
      "cell_type": "markdown",
      "source": [
        "## 2. Напишите рекуррентную функцию вычисления списка чисел Фибоначчи (от 0-го до n-го) по данному n"
      ],
      "metadata": {
        "id": "-lJxhzu1K4Xe"
      }
    },
    {
      "cell_type": "code",
      "source": [
        "%%time\n",
        "\n",
        "def fib_list(n):\n",
        "    if n == 0:\n",
        "        return [0]\n",
        "    if n == 1:\n",
        "        return [0, 1]\n",
        "    result = fib_list(n - 1)\n",
        "    return fib_list(n - 1) + [result[-2] + result[-1]]\n",
        "    \n",
        "n = 25\n",
        "fib_list(n)"
      ],
      "metadata": {
        "colab": {
          "base_uri": "https://localhost:8080/"
        },
        "id": "EoXFPjLYO9bv",
        "outputId": "cc9b2888-4507-44f4-cac0-182a2aa68a05"
      },
      "execution_count": 5,
      "outputs": [
        {
          "output_type": "stream",
          "name": "stdout",
          "text": [
            "CPU times: user 12.1 s, sys: 70.2 ms, total: 12.2 s\n",
            "Wall time: 17.7 s\n"
          ]
        },
        {
          "output_type": "execute_result",
          "data": {
            "text/plain": [
              "[0,\n",
              " 1,\n",
              " 1,\n",
              " 2,\n",
              " 3,\n",
              " 5,\n",
              " 8,\n",
              " 13,\n",
              " 21,\n",
              " 34,\n",
              " 55,\n",
              " 89,\n",
              " 144,\n",
              " 233,\n",
              " 377,\n",
              " 610,\n",
              " 987,\n",
              " 1597,\n",
              " 2584,\n",
              " 4181,\n",
              " 6765,\n",
              " 10946,\n",
              " 17711,\n",
              " 28657,\n",
              " 46368,\n",
              " 75025]"
            ]
          },
          "metadata": {},
          "execution_count": 5
        }
      ]
    },
    {
      "cell_type": "code",
      "source": [
        "%%time\n",
        "\n",
        "@functools.lru_cache()\n",
        "def fib_list(n):\n",
        "    if n == 0:\n",
        "        return [0]\n",
        "    if n == 1:\n",
        "        return [0, 1]\n",
        "    result = fib_list(n - 1)\n",
        "    return fib_list(n - 1) + [result[-2] + result[-1]]\n",
        "\n",
        "fib_list(25)"
      ],
      "metadata": {
        "colab": {
          "base_uri": "https://localhost:8080/"
        },
        "id": "4BovAEQcVcmz",
        "outputId": "ff7a4cca-610a-444c-fdd3-b374fb8e46c2"
      },
      "execution_count": 6,
      "outputs": [
        {
          "output_type": "stream",
          "name": "stdout",
          "text": [
            "CPU times: user 67 µs, sys: 2 µs, total: 69 µs\n",
            "Wall time: 71.3 µs\n"
          ]
        },
        {
          "output_type": "execute_result",
          "data": {
            "text/plain": [
              "[0,\n",
              " 1,\n",
              " 1,\n",
              " 2,\n",
              " 3,\n",
              " 5,\n",
              " 8,\n",
              " 13,\n",
              " 21,\n",
              " 34,\n",
              " 55,\n",
              " 89,\n",
              " 144,\n",
              " 233,\n",
              " 377,\n",
              " 610,\n",
              " 987,\n",
              " 1597,\n",
              " 2584,\n",
              " 4181,\n",
              " 6765,\n",
              " 10946,\n",
              " 17711,\n",
              " 28657,\n",
              " 46368,\n",
              " 75025]"
            ]
          },
          "metadata": {},
          "execution_count": 6
        }
      ]
    },
    {
      "cell_type": "markdown",
      "source": [
        "## 3. Нарисуйте график роста времени работы этих функций по мере увеличения n."
      ],
      "metadata": {
        "id": "remW697WPVvj"
      }
    },
    {
      "cell_type": "code",
      "source": [
        "import timeit\n",
        "import matplotlib.pyplot as plt\n",
        "\n",
        "\n",
        "def fib(n):\n",
        "    if n <= 1:\n",
        "        return n\n",
        "    else:\n",
        "        return fib(n-1) + fib(n-2)\n",
        "\n",
        "def plot_fib_time():\n",
        "    times = []\n",
        "    for i in range(0, 25):\n",
        "        t = timeit.Timer(lambda: fib(i))\n",
        "        times.append(t.timeit(number=1000))\n",
        "    plt.plot(times)\n",
        "    plt.ylabel('Time (ms)')\n",
        "    plt.xlabel('n')\n",
        "    plt.title(\"Simple fib\")\n",
        "    plt.show()\n",
        "\n",
        "plot_fib_time()"
      ],
      "metadata": {
        "colab": {
          "base_uri": "https://localhost:8080/",
          "height": 472
        },
        "id": "87z0-zRkXw6H",
        "outputId": "073fcd0d-19e6-4e82-ab58-de295e9db06a"
      },
      "execution_count": 7,
      "outputs": [
        {
          "output_type": "display_data",
          "data": {
            "text/plain": [
              "<Figure size 640x480 with 1 Axes>"
            ],
            "image/png": "[encoded data removed]"
          },
          "metadata": {}
        }
      ]
    },
    {
      "cell_type": "code",
      "source": [
        "@functools.lru_cache()\n",
        "def fib(n): \n",
        "  if n <= 1:  # одно и то же условие проверяет и граничный, и рекурсивный случаи сразу\n",
        "    return n\n",
        "  return fib(n-1) + fib(n-2)\n",
        "\n",
        "def plot_fib_time():\n",
        "    times = []\n",
        "    for i in range(0, 25):\n",
        "        t = timeit.Timer(lambda: fib(i))\n",
        "        times.append(t.timeit(number=1000))\n",
        "    plt.plot(times)\n",
        "    plt.ylabel('Time (ms)')\n",
        "    plt.xlabel('n')\n",
        "    plt.title(\"Memoization fib\")\n",
        "    plt.show()\n",
        "\n",
        "plot_fib_time()"
      ],
      "metadata": {
        "colab": {
          "base_uri": "https://localhost:8080/",
          "height": 472
        },
        "id": "SFCh__1Bbln4",
        "outputId": "a37b0a8c-95c8-4364-8fa4-7d29638176fd"
      },
      "execution_count": 8,
      "outputs": [
        {
          "output_type": "display_data",
          "data": {
            "text/plain": [
              "<Figure size 640x480 with 1 Axes>"
            ],
            "image/png": "[encoded data removed]"
          },
          "metadata": {}
        }
      ]
    },
    {
      "cell_type": "code",
      "source": [
        "def fib_list(n):\n",
        "    if n == 0:\n",
        "        return [0]\n",
        "    if n == 1:\n",
        "        return [0, 1]\n",
        "    result = fib_list(n - 1)\n",
        "    return fib_list(n - 1) + [result[-2] + result[-1]]\n",
        "\n",
        "def plot_fib_time():\n",
        "    times = []\n",
        "    for i in range(0, 15):\n",
        "        t = timeit.Timer(lambda: fib_list(i))\n",
        "        times.append(t.timeit(number=1000))\n",
        "    plt.plot(times)\n",
        "    plt.ylabel('Time (ms)')\n",
        "    plt.xlabel('n')\n",
        "    plt.title(\"Simple fib_list\")\n",
        "    plt.show()\n",
        "\n",
        "plot_fib_time()"
      ],
      "metadata": {
        "colab": {
          "base_uri": "https://localhost:8080/",
          "height": 472
        },
        "id": "qJhPSJNhZprw",
        "outputId": "715f1824-3ca2-4bde-85af-24c1d6f46f89"
      },
      "execution_count": 9,
      "outputs": [
        {
          "output_type": "display_data",
          "data": {
            "text/plain": [
              "<Figure size 640x480 with 1 Axes>"
            ],
            "image/png": "[encoded data removed]"
          },
          "metadata": {}
        }
      ]
    },
    {
      "cell_type": "code",
      "source": [
        "@functools.lru_cache()\n",
        "def fib_list(n):\n",
        "    if n == 0:\n",
        "        return [0]\n",
        "    if n == 1:\n",
        "        return [0, 1]\n",
        "    result = fib_list(n - 1)\n",
        "    return fib_list(n - 1) + [result[-2] + result[-1]]\n",
        "\n",
        "def plot_fib_time():\n",
        "    times = []\n",
        "    for i in range(0, 15):\n",
        "        t = timeit.Timer(lambda: fib_list(i))\n",
        "        times.append(t.timeit(number=1000))\n",
        "    plt.plot(times)\n",
        "    plt.ylabel('Time (ms)')\n",
        "    plt.xlabel('n')\n",
        "    plt.title(\"Memoization fib_list\")\n",
        "    plt.show()\n",
        "\n",
        "plot_fib_time()"
      ],
      "metadata": {
        "colab": {
          "base_uri": "https://localhost:8080/",
          "height": 472
        },
        "id": "LRCv6S3ocQT8",
        "outputId": "0a73831e-cd24-44a6-b460-c284983997d6"
      },
      "execution_count": 10,
      "outputs": [
        {
          "output_type": "display_data",
          "data": {
            "text/plain": [
              "<Figure size 640x480 with 1 Axes>"
            ],
            "image/png": "[encoded data removed]"
          },
          "metadata": {}
        }
      ]
    },
    {
      "cell_type": "markdown",
      "source": [
        "## 4.Напишите декоратор: функцию высшего порядка my_timeit(func), результат которой - функция подсчёта времени работы func для разных входных значений, и который можно применить к plot_discrete"
      ],
      "metadata": {
        "id": "IQogNCg1dX1y"
      }
    },
    {
      "cell_type": "code",
      "source": [
        "import time\n",
        "\n",
        "def my_timeit(func):\n",
        "    def wrapper(*args, **kwargs):\n",
        "        start = time.time()\n",
        "        result = func(*args, **kwargs)\n",
        "        end = time.time()\n",
        "        print(f\"Время выполнения функции {func.__name__}: {end - start} секунд\")\n",
        "        return result\n",
        "    return wrapper\n",
        "\n",
        "@my_timeit\n",
        "def plot_discrete(n):\n",
        "  time.sleep(n)\n",
        "  return 0\n",
        "\n",
        "plot_discrete(5)"
      ],
      "metadata": {
        "colab": {
          "base_uri": "https://localhost:8080/"
        },
        "id": "DQda4mgLdbqU",
        "outputId": "17258dae-d279-432c-e4c2-08ba3c740dd5"
      },
      "execution_count": 11,
      "outputs": [
        {
          "output_type": "stream",
          "name": "stdout",
          "text": [
            "Время выполнения функции plot_discrete: 5.0051186084747314 секунд\n"
          ]
        },
        {
          "output_type": "execute_result",
          "data": {
            "text/plain": [
              "0"
            ]
          },
          "metadata": {},
          "execution_count": 11
        }
      ]
    },
    {
      "cell_type": "markdown",
      "source": [
        "## 5. Перепишите код, используя map:"
      ],
      "metadata": {
        "id": "c2mh6nC-QLDD"
      }
    },
    {
      "cell_type": "code",
      "source": [
        "persons = ['alfred', 'tabitha', 'william', 'arla']\n",
        "uppered_persons = []\n",
        "for person in persons:\n",
        " persons_ = person.upper()\n",
        " uppered_persons.append(persons_)    \n",
        "print(uppered_persons)"
      ],
      "metadata": {
        "colab": {
          "base_uri": "https://localhost:8080/"
        },
        "id": "k_NBQiEZQPB-",
        "outputId": "fb5e2423-af23-48ae-8186-1e739b474e42"
      },
      "execution_count": 12,
      "outputs": [
        {
          "output_type": "stream",
          "name": "stdout",
          "text": [
            "['ALFRED', 'TABITHA', 'WILLIAM', 'ARLA']\n"
          ]
        }
      ]
    },
    {
      "cell_type": "code",
      "source": [
        "persons = ['alfred', 'tabitha', 'william', 'arla']\n",
        "\n",
        "uppered_persons = list(map(lambda x: x.upper(), persons))\n",
        "\n",
        "list(uppered_persons)"
      ],
      "metadata": {
        "colab": {
          "base_uri": "https://localhost:8080/"
        },
        "id": "_EfoN653QQnb",
        "outputId": "763e983b-a4a8-4d55-9ca4-8b0fa9b5fd4e"
      },
      "execution_count": 13,
      "outputs": [
        {
          "output_type": "execute_result",
          "data": {
            "text/plain": [
              "['ALFRED', 'TABITHA', 'WILLIAM', 'ARLA']"
            ]
          },
          "metadata": {},
          "execution_count": 13
        }
      ]
    },
    {
      "cell_type": "markdown",
      "source": [
        "## 6.Выведите все элементы, которые меньше 5, используя filter (filter принимает функцию и коллекцию, возвращает коллекцию элементов, для которых функция возвращает True)."
      ],
      "metadata": {
        "id": "RPN9JU2JgrnZ"
      }
    },
    {
      "cell_type": "code",
      "source": [
        "a = [1, 1, 2, 3, 5, 8, 13, 21, 34, 55, 89]\n",
        "\n",
        "result = filter(lambda x: x < 5, a)\n",
        "\n",
        "list(result)"
      ],
      "metadata": {
        "colab": {
          "base_uri": "https://localhost:8080/"
        },
        "id": "P8fNxxA9g9m3",
        "outputId": "6b5937e1-5583-4176-a8e6-99d581b65e6a"
      },
      "execution_count": 14,
      "outputs": [
        {
          "output_type": "execute_result",
          "data": {
            "text/plain": [
              "[1, 1, 2, 3]"
            ]
          },
          "metadata": {},
          "execution_count": 14
        }
      ]
    },
    {
      "cell_type": "markdown",
      "source": [
        "## 7.map + filter + reduce:\n",
        "С помощью анонимной функции извлеките из рандомного списка числа, делимые на 15, и сложите их."
      ],
      "metadata": {
        "id": "bfr1_oeGhIGx"
      }
    },
    {
      "cell_type": "code",
      "source": [
        "import random\n",
        "from functools import reduce\n",
        "\n",
        "random_list = [random.randint(1, 250) for _ in range(20)]\n",
        "\n",
        "result = reduce(lambda x, y: x + y, list(filter(lambda x: x % 15 == 0, map(lambda x: x * 2, random_list))))\n",
        "\n",
        "print(random_list)\n",
        "print(list(filter(lambda x: x % 15 == 0, map(lambda x: x * 2, random_list))))\n",
        "result"
      ],
      "metadata": {
        "colab": {
          "base_uri": "https://localhost:8080/"
        },
        "id": "vBlg4g0LhQNH",
        "outputId": "c6fc28c5-15cc-4607-f4f2-862cc2b0bbab"
      },
      "execution_count": 15,
      "outputs": [
        {
          "output_type": "stream",
          "name": "stdout",
          "text": [
            "[229, 215, 121, 91, 55, 180, 9, 43, 100, 39, 137, 53, 132, 183, 25, 80, 185, 240, 20, 186]\n",
            "[360, 480]\n"
          ]
        },
        {
          "output_type": "execute_result",
          "data": {
            "text/plain": [
              "840"
            ]
          },
          "metadata": {},
          "execution_count": 15
        }
      ]
    }
  ]
}